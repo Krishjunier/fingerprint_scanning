{
  "cells": [
    {
      "cell_type": "code",
      "execution_count": 1,
      "metadata": {
        "colab": {
          "base_uri": "https://localhost:8080/"
        },
        "id": "bLC3QtpGIyPz",
        "outputId": "13a4796f-0250-4172-e18d-00484ebe6335"
      },
      "outputs": [
        {
          "name": "stderr",
          "output_type": "stream",
          "text": [
            "'unzip' is not recognized as an internal or external command,\n",
            "operable program or batch file.\n"
          ]
        }
      ],
      "source": [
        "!unzip utk.zip"
      ]
    },
    {
      "cell_type": "code",
      "execution_count": null,
      "metadata": {
        "colab": {
          "base_uri": "https://localhost:8080/"
        },
        "id": "DaIAvBk4Nbm0",
        "outputId": "95bf48fa-6aaf-4f57-a8f3-e6046c2c3aa7"
      },
      "outputs": [],
      "source": [
        "!pwd"
      ]
    },
    {
      "cell_type": "code",
      "execution_count": null,
      "metadata": {
        "id": "tNGq5d8WNrQT"
      },
      "outputs": [],
      "source": [
        "import numpy as np # linear algebra\n",
        "import pandas as pd # data processing, CSV file I/O (e.g. pd.read_csv)\n",
        "import os\n",
        "import matplotlib.pyplot as plt\n",
        "import seaborn as sns\n",
        "import warnings\n",
        "from tqdm.notebook import tqdm\n",
        "warnings.filterwarnings('ignore')\n",
        "%matplotlib inline\n",
        "\n",
        "import tensorflow as tf\n",
        "from keras.preprocessing.image import load_img\n",
        "from keras.models import Sequential, Model\n",
        "from keras.layers import Dense, Conv2D, Dropout, Flatten, MaxPooling2D, Input"
      ]
    },
    {
      "cell_type": "code",
      "execution_count": null,
      "metadata": {
        "id": "tYGyQ0QDQkGi"
      },
      "outputs": [],
      "source": [
        "BASE_DIR = '/content/drive/MyDrive/ColabNote/UTKFace/'"
      ]
    },
    {
      "cell_type": "code",
      "execution_count": null,
      "metadata": {
        "colab": {
          "base_uri": "https://localhost:8080/",
          "height": 49,
          "referenced_widgets": [
            "cb1d9b5191a44b489ee724d8f10e3b10",
            "36ccc1e73b6d4c63815f7a3e0f57eec6",
            "aa9d5d100e674e3696184f01cf91340b",
            "5e036381c8cd4fccbd3ce390bdd7fdff",
            "ab7f40d090874f749a359b46e356fe96",
            "7d1a02c40ef6461faf875c53b29cb6f1",
            "cdc7fbbe0ef540b395ac3edc908ad042",
            "bff4fac4f2bb4c1ab0ec1c7be8f326a5",
            "b70a34c53ec24323b17898da5c534589",
            "f7f8ef01edcc4ca4aa088b619bf27f6b",
            "23a0aab8d9d54fe4b3235059ae218f3a"
          ]
        },
        "id": "AQ2qayefQsbE",
        "outputId": "472f0ca6-3256-487a-af32-c94d3876bc97"
      },
      "outputs": [],
      "source": [
        "# labels - age, gender, ethnicity\n",
        "image_paths = []\n",
        "age_labels = []\n",
        "gender_labels = []\n",
        "\n",
        "for filename in tqdm(os.listdir(BASE_DIR)):\n",
        "    image_path = os.path.join(BASE_DIR, filename)\n",
        "    temp = filename.split('_')\n",
        "    age = int(temp[0])\n",
        "    gender = int(temp[1])\n",
        "    image_paths.append(image_path)\n",
        "    age_labels.append(age)\n",
        "    gender_labels.append(gender)"
      ]
    },
    {
      "cell_type": "code",
      "execution_count": null,
      "metadata": {
        "colab": {
          "base_uri": "https://localhost:8080/",
          "height": 206
        },
        "id": "VyKi6c8zQ3dj",
        "outputId": "6c90efd6-5f45-4e3e-9eb7-65f2cf883c75"
      },
      "outputs": [],
      "source": [
        "# convert to dataframe\n",
        "df = pd.DataFrame()\n",
        "df['image'], df['age'], df['gender'] = image_paths, age_labels, gender_labels\n",
        "df.head()"
      ]
    },
    {
      "cell_type": "code",
      "execution_count": null,
      "metadata": {
        "id": "OMcPn6O-Q7Dh"
      },
      "outputs": [],
      "source": [
        "# map labels for gender\n",
        "gender_dict = {0:'Male', 1:'Female'}"
      ]
    },
    {
      "cell_type": "markdown",
      "metadata": {
        "id": "A_ZhUm5yRCOW"
      },
      "source": [
        "## Exploratory Data Analysis"
      ]
    },
    {
      "cell_type": "code",
      "execution_count": null,
      "metadata": {
        "colab": {
          "base_uri": "https://localhost:8080/",
          "height": 248
        },
        "id": "Q78hoPaIREy9",
        "outputId": "3ba3771c-f1b6-4f03-c235-0f0d802ab935"
      },
      "outputs": [],
      "source": [
        "from PIL import Image\n",
        "img = Image.open(df['image'][0])\n",
        "plt.axis('off')\n",
        "plt.imshow(img);"
      ]
    },
    {
      "cell_type": "code",
      "execution_count": null,
      "metadata": {
        "colab": {
          "base_uri": "https://localhost:8080/",
          "height": 296
        },
        "id": "ZGFZUtqDRJFO",
        "outputId": "d1a68c1b-ad8e-43dc-92e1-f7e19bc6b5e8"
      },
      "outputs": [],
      "source": [
        "sns.distplot(df['age'])"
      ]
    },
    {
      "cell_type": "code",
      "execution_count": null,
      "metadata": {
        "colab": {
          "base_uri": "https://localhost:8080/",
          "height": 296
        },
        "id": "nWmwWrtFRMRO",
        "outputId": "ad842953-c681-47f7-d56b-61e04749c7d8"
      },
      "outputs": [],
      "source": [
        "sns.countplot(df['gender'])\n",
        "# 0-Male, 1-Female "
      ]
    },
    {
      "cell_type": "code",
      "execution_count": null,
      "metadata": {
        "colab": {
          "base_uri": "https://localhost:8080/",
          "height": 1000
        },
        "id": "O7QroUbQRWBt",
        "outputId": "cad3f799-0203-4ba7-f4b6-2b923c981edc"
      },
      "outputs": [],
      "source": [
        "# to display grid of images\n",
        "plt.figure(figsize=(20, 20))\n",
        "files = df.iloc[0:25]\n",
        "\n",
        "for index, file, age, gender in files.itertuples():\n",
        "    plt.subplot(5, 5, index+1)\n",
        "    img = load_img(file)\n",
        "    img = np.array(img)\n",
        "    plt.imshow(img)\n",
        "    plt.title(f\"Age: {age} Gender: {gender_dict[gender]}\")\n",
        "    plt.axis('off')"
      ]
    },
    {
      "cell_type": "markdown",
      "metadata": {
        "id": "40rqJbS1ScXM"
      },
      "source": [
        "## Feature Extraction"
      ]
    },
    {
      "cell_type": "code",
      "execution_count": null,
      "metadata": {
        "id": "tt43Q0lgSeg6"
      },
      "outputs": [],
      "source": [
        "def extract_features(images):\n",
        "    features = []\n",
        "    for image in tqdm(images):\n",
        "        img = load_img(image, grayscale=True)\n",
        "        img = img.resize((128, 128), Image.ANTIALIAS)\n",
        "        img = np.array(img)\n",
        "        features.append(img)\n",
        "        \n",
        "    features = np.array(features)\n",
        "    # ignore this step if using RGB\n",
        "    features = features.reshape(len(features), 128, 128, 1)\n",
        "    return features"
      ]
    },
    {
      "cell_type": "code",
      "execution_count": null,
      "metadata": {
        "colab": {
          "base_uri": "https://localhost:8080/",
          "height": 49,
          "referenced_widgets": [
            "cb261a33397248aeb01dff30ecbdf055",
            "3f2310248eb4411c9ce68d43fa6b15fa",
            "e02f3dc487a04367abd9a6b3288847ff",
            "ba615ec3dd8e401c934ecc6ecf501c93",
            "e13c1a0c5ceb419b999909f6ca0a04c5",
            "9d7484776edf44bab4d9d528b68be3e1",
            "4e1d9f8c845c409abb3a52af847bf4e2",
            "132be49b96fd450caea36fa2c38caa9c",
            "a12fdb1fcef340cba44b9a90e7aaa73d",
            "5bdefabba8f243df96fa47d6cd555643",
            "8ffdd387e1a9436c8fe5bc12119f3ac8"
          ]
        },
        "id": "GCkYEjq7SiMX",
        "outputId": "ba71d6a7-56b5-4dec-fda7-972a397b4667"
      },
      "outputs": [],
      "source": [
        "X = extract_features(df['image'])"
      ]
    },
    {
      "cell_type": "code",
      "execution_count": null,
      "metadata": {
        "colab": {
          "base_uri": "https://localhost:8080/"
        },
        "id": "Pc1O3sdjSlZb",
        "outputId": "e2a8954e-6644-4c65-ca7c-39304af6ce86"
      },
      "outputs": [],
      "source": [
        "X.shape"
      ]
    },
    {
      "cell_type": "code",
      "execution_count": null,
      "metadata": {
        "id": "k-lSZnGMSp8n"
      },
      "outputs": [],
      "source": [
        "# normalize the images\n",
        "X = X/255.0"
      ]
    },
    {
      "cell_type": "code",
      "execution_count": null,
      "metadata": {
        "id": "41Y8ydIwSqqb"
      },
      "outputs": [],
      "source": [
        "y_gender = np.array(df['gender'])\n",
        "y_age = np.array(df['age'])"
      ]
    },
    {
      "cell_type": "code",
      "execution_count": null,
      "metadata": {
        "id": "W9S314fpSswM"
      },
      "outputs": [],
      "source": [
        "input_shape = (128, 128, 1)"
      ]
    },
    {
      "cell_type": "markdown",
      "metadata": {
        "id": "7NPe0-TCSvT5"
      },
      "source": [
        "## Model Creation"
      ]
    },
    {
      "cell_type": "code",
      "execution_count": null,
      "metadata": {
        "id": "YmNV04xvSymX"
      },
      "outputs": [],
      "source": [
        "inputs = Input((input_shape))\n",
        "# convolutional layers\n",
        "conv_1 = Conv2D(32, kernel_size=(3, 3), activation='relu') (inputs)\n",
        "maxp_1 = MaxPooling2D(pool_size=(2, 2)) (conv_1)\n",
        "conv_2 = Conv2D(64, kernel_size=(3, 3), activation='relu') (maxp_1)\n",
        "maxp_2 = MaxPooling2D(pool_size=(2, 2)) (conv_2)\n",
        "conv_3 = Conv2D(128, kernel_size=(3, 3), activation='relu') (maxp_2)\n",
        "maxp_3 = MaxPooling2D(pool_size=(2, 2)) (conv_3)\n",
        "conv_4 = Conv2D(256, kernel_size=(3, 3), activation='relu') (maxp_3)\n",
        "maxp_4 = MaxPooling2D(pool_size=(2, 2)) (conv_4)\n",
        "\n",
        "flatten = Flatten() (maxp_4)\n",
        "\n",
        "# fully connected layers\n",
        "dense_1 = Dense(256, activation='relu') (flatten)\n",
        "dense_2 = Dense(256, activation='relu') (flatten)\n",
        "\n",
        "dropout_1 = Dropout(0.3) (dense_1)\n",
        "dropout_2 = Dropout(0.3) (dense_2)\n",
        "\n",
        "output_1 = Dense(1, activation='sigmoid', name='gender_out') (dropout_1)\n",
        "output_2 = Dense(1, activation='relu', name='age_out') (dropout_2)\n",
        "\n",
        "model = Model(inputs=[inputs], outputs=[output_1, output_2])\n",
        "\n",
        "model.compile(loss=['binary_crossentropy', 'mae'], optimizer='adam', metrics=['accuracy'])"
      ]
    },
    {
      "cell_type": "code",
      "execution_count": null,
      "metadata": {
        "colab": {
          "base_uri": "https://localhost:8080/",
          "height": 1000
        },
        "id": "Uy14lErwS2k7",
        "outputId": "441a21f9-3f52-4388-d9b2-e49679ce60ae"
      },
      "outputs": [],
      "source": [
        "# plot the model\n",
        "from tensorflow.keras.utils import plot_model\n",
        "plot_model(model)"
      ]
    },
    {
      "cell_type": "code",
      "execution_count": null,
      "metadata": {
        "colab": {
          "base_uri": "https://localhost:8080/"
        },
        "id": "-dyYOc38S4yj",
        "outputId": "81fd6c34-0805-427c-f8ce-8f3b87e6121c"
      },
      "outputs": [],
      "source": [
        "# train model\n",
        "history = model.fit(x=X, y=[y_gender, y_age], batch_size=32, epochs=30, validation_split=0.2)"
      ]
    },
    {
      "cell_type": "markdown",
      "metadata": {
        "id": "DmwAE_ccTKaS"
      },
      "source": [
        "## Plot the Results"
      ]
    },
    {
      "cell_type": "code",
      "execution_count": null,
      "metadata": {
        "colab": {
          "base_uri": "https://localhost:8080/",
          "height": 545
        },
        "id": "mvKXrscbTV4d",
        "outputId": "cbac1a25-032b-4b89-a702-66193a3ad943"
      },
      "outputs": [],
      "source": [
        "# plot results for gender\n",
        "acc = history.history['gender_out_accuracy']\n",
        "val_acc = history.history['val_gender_out_accuracy']\n",
        "epochs = range(len(acc))\n",
        "\n",
        "plt.plot(epochs, acc, 'b', label='Training Accuracy')\n",
        "plt.plot(epochs, val_acc, 'r', label='Validation Accuracy')\n",
        "plt.title('Accuracy Graph')\n",
        "plt.legend()\n",
        "plt.figure()\n",
        "\n",
        "loss = history.history['gender_out_loss']\n",
        "val_loss = history.history['val_gender_out_loss']\n",
        "\n",
        "plt.plot(epochs, loss, 'b', label='Training Loss')\n",
        "plt.plot(epochs, val_loss, 'r', label='Validation Loss')\n",
        "plt.title('Loss Graph')\n",
        "plt.legend()\n",
        "plt.show()"
      ]
    },
    {
      "cell_type": "code",
      "execution_count": null,
      "metadata": {
        "colab": {
          "base_uri": "https://localhost:8080/",
          "height": 281
        },
        "id": "gc0RO_N1TZbB",
        "outputId": "40d54672-1dec-43e9-bb76-91fb37220350"
      },
      "outputs": [],
      "source": [
        "# plot results for age\n",
        "loss = history.history['age_out_loss']\n",
        "val_loss = history.history['val_age_out_loss']\n",
        "epochs = range(len(loss))\n",
        "\n",
        "plt.plot(epochs, loss, 'b', label='Training Loss')\n",
        "plt.plot(epochs, val_loss, 'r', label='Validation Loss')\n",
        "plt.title('Loss Graph')\n",
        "plt.legend()\n",
        "plt.show()"
      ]
    },
    {
      "cell_type": "markdown",
      "metadata": {
        "id": "1goC_tyQTkHC"
      },
      "source": [
        "## Prediction with Test Data¶"
      ]
    },
    {
      "cell_type": "code",
      "execution_count": null,
      "metadata": {
        "colab": {
          "base_uri": "https://localhost:8080/",
          "height": 283
        },
        "id": "wBEHs-4WTla6",
        "outputId": "945adb81-2f76-4e34-cb67-159b6b7329f9"
      },
      "outputs": [],
      "source": [
        "image_index = 100\n",
        "print(\"Original Gender:\", gender_dict[y_gender[image_index]], \"Original Age:\", y_age[image_index])\n",
        "# predict from model\n",
        "pred = model.predict(X[image_index].reshape(1, 128, 128, 1))\n",
        "pred_gender = gender_dict[round(pred[0][0][0])]\n",
        "pred_age = round(pred[1][0][0])\n",
        "print(\"Predicted Gender:\", pred_gender, \"Predicted Age:\", pred_age)\n",
        "plt.axis('off')\n",
        "plt.imshow(X[image_index].reshape(128, 128), cmap='gray');"
      ]
    },
    {
      "cell_type": "code",
      "execution_count": null,
      "metadata": {
        "colab": {
          "base_uri": "https://localhost:8080/",
          "height": 283
        },
        "id": "BM0nMS9IToUL",
        "outputId": "0c9b3cf1-0012-4fc1-88fc-a950a818125f"
      },
      "outputs": [],
      "source": [
        "# For blurred Image, the accuracy is not that high as for clear images\n",
        "image_index = 5001\n",
        "print(\"Original Gender:\", gender_dict[y_gender[image_index]], \"Original Age:\", y_age[image_index])\n",
        "# predict from model\n",
        "pred = model.predict(X[image_index].reshape(1, 128, 128, 1))\n",
        "pred_gender = gender_dict[round(pred[0][0][0])]\n",
        "pred_age = round(pred[1][0][0])\n",
        "print(\"Predicted Gender:\", pred_gender, \"Predicted Age:\", pred_age)\n",
        "plt.axis('off')\n",
        "plt.imshow(X[image_index].reshape(128, 128), cmap='gray');"
      ]
    },
    {
      "cell_type": "code",
      "execution_count": null,
      "metadata": {
        "colab": {
          "base_uri": "https://localhost:8080/",
          "height": 283
        },
        "id": "SwWd9IKrTtQ6",
        "outputId": "92837958-9d73-4748-9dbe-fad09d2f9e35"
      },
      "outputs": [],
      "source": [
        "image_index = 10001\n",
        "print(\"Original Gender:\", gender_dict[y_gender[image_index]], \"Original Age:\", y_age[image_index])\n",
        "# predict from model\n",
        "pred = model.predict(X[image_index].reshape(1, 128, 128, 1))\n",
        "pred_gender = gender_dict[round(pred[0][0][0])]\n",
        "pred_age = round(pred[1][0][0])\n",
        "print(\"Predicted Gender:\", pred_gender, \"Predicted Age:\", pred_age)\n",
        "plt.axis('off')\n",
        "plt.imshow(X[image_index].reshape(128, 128), cmap='gray');"
      ]
    },
    {
      "cell_type": "markdown",
      "metadata": {
        "id": "clbiOEP3kLWr"
      },
      "source": [
        "#### For Requirements.txt"
      ]
    },
    {
      "cell_type": "code",
      "execution_count": null,
      "metadata": {
        "id": "AOK5waUakP2Q"
      },
      "outputs": [],
      "source": [
        "! pip install session-info"
      ]
    },
    {
      "cell_type": "code",
      "execution_count": null,
      "metadata": {
        "id": "IaP-sqT6kVqW"
      },
      "outputs": [],
      "source": [
        "import session_info\n",
        "session_info.show()"
      ]
    }
  ],
  "metadata": {
    "colab": {
      "name": "Age_Sex_Prediction_DL.ipynb",
      "provenance": []
    },
    "kernelspec": {
      "display_name": "Python 3",
      "name": "python3"
    },
    "language_info": {
      "codemirror_mode": {
        "name": "ipython",
        "version": 3
      },
      "file_extension": ".py",
      "mimetype": "text/x-python",
      "name": "python",
      "nbconvert_exporter": "python",
      "pygments_lexer": "ipython3",
      "version": "3.10.9"
    },
    "widgets": {
      "application/vnd.jupyter.widget-state+json": {
        "132be49b96fd450caea36fa2c38caa9c": {
          "model_module": "@jupyter-widgets/base",
          "model_module_version": "1.2.0",
          "model_name": "LayoutModel",
          "state": {
            "_model_module": "@jupyter-widgets/base",
            "_model_module_version": "1.2.0",
            "_model_name": "LayoutModel",
            "_view_count": null,
            "_view_module": "@jupyter-widgets/base",
            "_view_module_version": "1.2.0",
            "_view_name": "LayoutView",
            "align_content": null,
            "align_items": null,
            "align_self": null,
            "border": null,
            "bottom": null,
            "display": null,
            "flex": null,
            "flex_flow": null,
            "grid_area": null,
            "grid_auto_columns": null,
            "grid_auto_flow": null,
            "grid_auto_rows": null,
            "grid_column": null,
            "grid_gap": null,
            "grid_row": null,
            "grid_template_areas": null,
            "grid_template_columns": null,
            "grid_template_rows": null,
            "height": null,
            "justify_content": null,
            "justify_items": null,
            "left": null,
            "margin": null,
            "max_height": null,
            "max_width": null,
            "min_height": null,
            "min_width": null,
            "object_fit": null,
            "object_position": null,
            "order": null,
            "overflow": null,
            "overflow_x": null,
            "overflow_y": null,
            "padding": null,
            "right": null,
            "top": null,
            "visibility": null,
            "width": null
          }
        },
        "23a0aab8d9d54fe4b3235059ae218f3a": {
          "model_module": "@jupyter-widgets/controls",
          "model_module_version": "1.5.0",
          "model_name": "DescriptionStyleModel",
          "state": {
            "_model_module": "@jupyter-widgets/controls",
            "_model_module_version": "1.5.0",
            "_model_name": "DescriptionStyleModel",
            "_view_count": null,
            "_view_module": "@jupyter-widgets/base",
            "_view_module_version": "1.2.0",
            "_view_name": "StyleView",
            "description_width": ""
          }
        },
        "36ccc1e73b6d4c63815f7a3e0f57eec6": {
          "model_module": "@jupyter-widgets/controls",
          "model_module_version": "1.5.0",
          "model_name": "HTMLModel",
          "state": {
            "_dom_classes": [],
            "_model_module": "@jupyter-widgets/controls",
            "_model_module_version": "1.5.0",
            "_model_name": "HTMLModel",
            "_view_count": null,
            "_view_module": "@jupyter-widgets/controls",
            "_view_module_version": "1.5.0",
            "_view_name": "HTMLView",
            "description": "",
            "description_tooltip": null,
            "layout": "IPY_MODEL_7d1a02c40ef6461faf875c53b29cb6f1",
            "placeholder": "​",
            "style": "IPY_MODEL_cdc7fbbe0ef540b395ac3edc908ad042",
            "value": "100%"
          }
        },
        "3f2310248eb4411c9ce68d43fa6b15fa": {
          "model_module": "@jupyter-widgets/controls",
          "model_module_version": "1.5.0",
          "model_name": "HTMLModel",
          "state": {
            "_dom_classes": [],
            "_model_module": "@jupyter-widgets/controls",
            "_model_module_version": "1.5.0",
            "_model_name": "HTMLModel",
            "_view_count": null,
            "_view_module": "@jupyter-widgets/controls",
            "_view_module_version": "1.5.0",
            "_view_name": "HTMLView",
            "description": "",
            "description_tooltip": null,
            "layout": "IPY_MODEL_9d7484776edf44bab4d9d528b68be3e1",
            "placeholder": "​",
            "style": "IPY_MODEL_4e1d9f8c845c409abb3a52af847bf4e2",
            "value": "100%"
          }
        },
        "4e1d9f8c845c409abb3a52af847bf4e2": {
          "model_module": "@jupyter-widgets/controls",
          "model_module_version": "1.5.0",
          "model_name": "DescriptionStyleModel",
          "state": {
            "_model_module": "@jupyter-widgets/controls",
            "_model_module_version": "1.5.0",
            "_model_name": "DescriptionStyleModel",
            "_view_count": null,
            "_view_module": "@jupyter-widgets/base",
            "_view_module_version": "1.2.0",
            "_view_name": "StyleView",
            "description_width": ""
          }
        },
        "5bdefabba8f243df96fa47d6cd555643": {
          "model_module": "@jupyter-widgets/base",
          "model_module_version": "1.2.0",
          "model_name": "LayoutModel",
          "state": {
            "_model_module": "@jupyter-widgets/base",
            "_model_module_version": "1.2.0",
            "_model_name": "LayoutModel",
            "_view_count": null,
            "_view_module": "@jupyter-widgets/base",
            "_view_module_version": "1.2.0",
            "_view_name": "LayoutView",
            "align_content": null,
            "align_items": null,
            "align_self": null,
            "border": null,
            "bottom": null,
            "display": null,
            "flex": null,
            "flex_flow": null,
            "grid_area": null,
            "grid_auto_columns": null,
            "grid_auto_flow": null,
            "grid_auto_rows": null,
            "grid_column": null,
            "grid_gap": null,
            "grid_row": null,
            "grid_template_areas": null,
            "grid_template_columns": null,
            "grid_template_rows": null,
            "height": null,
            "justify_content": null,
            "justify_items": null,
            "left": null,
            "margin": null,
            "max_height": null,
            "max_width": null,
            "min_height": null,
            "min_width": null,
            "object_fit": null,
            "object_position": null,
            "order": null,
            "overflow": null,
            "overflow_x": null,
            "overflow_y": null,
            "padding": null,
            "right": null,
            "top": null,
            "visibility": null,
            "width": null
          }
        },
        "5e036381c8cd4fccbd3ce390bdd7fdff": {
          "model_module": "@jupyter-widgets/controls",
          "model_module_version": "1.5.0",
          "model_name": "HTMLModel",
          "state": {
            "_dom_classes": [],
            "_model_module": "@jupyter-widgets/controls",
            "_model_module_version": "1.5.0",
            "_model_name": "HTMLModel",
            "_view_count": null,
            "_view_module": "@jupyter-widgets/controls",
            "_view_module_version": "1.5.0",
            "_view_name": "HTMLView",
            "description": "",
            "description_tooltip": null,
            "layout": "IPY_MODEL_f7f8ef01edcc4ca4aa088b619bf27f6b",
            "placeholder": "​",
            "style": "IPY_MODEL_23a0aab8d9d54fe4b3235059ae218f3a",
            "value": " 23708/23708 [00:00&lt;00:00, 87055.60it/s]"
          }
        },
        "7d1a02c40ef6461faf875c53b29cb6f1": {
          "model_module": "@jupyter-widgets/base",
          "model_module_version": "1.2.0",
          "model_name": "LayoutModel",
          "state": {
            "_model_module": "@jupyter-widgets/base",
            "_model_module_version": "1.2.0",
            "_model_name": "LayoutModel",
            "_view_count": null,
            "_view_module": "@jupyter-widgets/base",
            "_view_module_version": "1.2.0",
            "_view_name": "LayoutView",
            "align_content": null,
            "align_items": null,
            "align_self": null,
            "border": null,
            "bottom": null,
            "display": null,
            "flex": null,
            "flex_flow": null,
            "grid_area": null,
            "grid_auto_columns": null,
            "grid_auto_flow": null,
            "grid_auto_rows": null,
            "grid_column": null,
            "grid_gap": null,
            "grid_row": null,
            "grid_template_areas": null,
            "grid_template_columns": null,
            "grid_template_rows": null,
            "height": null,
            "justify_content": null,
            "justify_items": null,
            "left": null,
            "margin": null,
            "max_height": null,
            "max_width": null,
            "min_height": null,
            "min_width": null,
            "object_fit": null,
            "object_position": null,
            "order": null,
            "overflow": null,
            "overflow_x": null,
            "overflow_y": null,
            "padding": null,
            "right": null,
            "top": null,
            "visibility": null,
            "width": null
          }
        },
        "8ffdd387e1a9436c8fe5bc12119f3ac8": {
          "model_module": "@jupyter-widgets/controls",
          "model_module_version": "1.5.0",
          "model_name": "DescriptionStyleModel",
          "state": {
            "_model_module": "@jupyter-widgets/controls",
            "_model_module_version": "1.5.0",
            "_model_name": "DescriptionStyleModel",
            "_view_count": null,
            "_view_module": "@jupyter-widgets/base",
            "_view_module_version": "1.2.0",
            "_view_name": "StyleView",
            "description_width": ""
          }
        },
        "9d7484776edf44bab4d9d528b68be3e1": {
          "model_module": "@jupyter-widgets/base",
          "model_module_version": "1.2.0",
          "model_name": "LayoutModel",
          "state": {
            "_model_module": "@jupyter-widgets/base",
            "_model_module_version": "1.2.0",
            "_model_name": "LayoutModel",
            "_view_count": null,
            "_view_module": "@jupyter-widgets/base",
            "_view_module_version": "1.2.0",
            "_view_name": "LayoutView",
            "align_content": null,
            "align_items": null,
            "align_self": null,
            "border": null,
            "bottom": null,
            "display": null,
            "flex": null,
            "flex_flow": null,
            "grid_area": null,
            "grid_auto_columns": null,
            "grid_auto_flow": null,
            "grid_auto_rows": null,
            "grid_column": null,
            "grid_gap": null,
            "grid_row": null,
            "grid_template_areas": null,
            "grid_template_columns": null,
            "grid_template_rows": null,
            "height": null,
            "justify_content": null,
            "justify_items": null,
            "left": null,
            "margin": null,
            "max_height": null,
            "max_width": null,
            "min_height": null,
            "min_width": null,
            "object_fit": null,
            "object_position": null,
            "order": null,
            "overflow": null,
            "overflow_x": null,
            "overflow_y": null,
            "padding": null,
            "right": null,
            "top": null,
            "visibility": null,
            "width": null
          }
        },
        "a12fdb1fcef340cba44b9a90e7aaa73d": {
          "model_module": "@jupyter-widgets/controls",
          "model_module_version": "1.5.0",
          "model_name": "ProgressStyleModel",
          "state": {
            "_model_module": "@jupyter-widgets/controls",
            "_model_module_version": "1.5.0",
            "_model_name": "ProgressStyleModel",
            "_view_count": null,
            "_view_module": "@jupyter-widgets/base",
            "_view_module_version": "1.2.0",
            "_view_name": "StyleView",
            "bar_color": null,
            "description_width": ""
          }
        },
        "aa9d5d100e674e3696184f01cf91340b": {
          "model_module": "@jupyter-widgets/controls",
          "model_module_version": "1.5.0",
          "model_name": "FloatProgressModel",
          "state": {
            "_dom_classes": [],
            "_model_module": "@jupyter-widgets/controls",
            "_model_module_version": "1.5.0",
            "_model_name": "FloatProgressModel",
            "_view_count": null,
            "_view_module": "@jupyter-widgets/controls",
            "_view_module_version": "1.5.0",
            "_view_name": "ProgressView",
            "bar_style": "success",
            "description": "",
            "description_tooltip": null,
            "layout": "IPY_MODEL_bff4fac4f2bb4c1ab0ec1c7be8f326a5",
            "max": 23708,
            "min": 0,
            "orientation": "horizontal",
            "style": "IPY_MODEL_b70a34c53ec24323b17898da5c534589",
            "value": 23708
          }
        },
        "ab7f40d090874f749a359b46e356fe96": {
          "model_module": "@jupyter-widgets/base",
          "model_module_version": "1.2.0",
          "model_name": "LayoutModel",
          "state": {
            "_model_module": "@jupyter-widgets/base",
            "_model_module_version": "1.2.0",
            "_model_name": "LayoutModel",
            "_view_count": null,
            "_view_module": "@jupyter-widgets/base",
            "_view_module_version": "1.2.0",
            "_view_name": "LayoutView",
            "align_content": null,
            "align_items": null,
            "align_self": null,
            "border": null,
            "bottom": null,
            "display": null,
            "flex": null,
            "flex_flow": null,
            "grid_area": null,
            "grid_auto_columns": null,
            "grid_auto_flow": null,
            "grid_auto_rows": null,
            "grid_column": null,
            "grid_gap": null,
            "grid_row": null,
            "grid_template_areas": null,
            "grid_template_columns": null,
            "grid_template_rows": null,
            "height": null,
            "justify_content": null,
            "justify_items": null,
            "left": null,
            "margin": null,
            "max_height": null,
            "max_width": null,
            "min_height": null,
            "min_width": null,
            "object_fit": null,
            "object_position": null,
            "order": null,
            "overflow": null,
            "overflow_x": null,
            "overflow_y": null,
            "padding": null,
            "right": null,
            "top": null,
            "visibility": null,
            "width": null
          }
        },
        "b70a34c53ec24323b17898da5c534589": {
          "model_module": "@jupyter-widgets/controls",
          "model_module_version": "1.5.0",
          "model_name": "ProgressStyleModel",
          "state": {
            "_model_module": "@jupyter-widgets/controls",
            "_model_module_version": "1.5.0",
            "_model_name": "ProgressStyleModel",
            "_view_count": null,
            "_view_module": "@jupyter-widgets/base",
            "_view_module_version": "1.2.0",
            "_view_name": "StyleView",
            "bar_color": null,
            "description_width": ""
          }
        },
        "ba615ec3dd8e401c934ecc6ecf501c93": {
          "model_module": "@jupyter-widgets/controls",
          "model_module_version": "1.5.0",
          "model_name": "HTMLModel",
          "state": {
            "_dom_classes": [],
            "_model_module": "@jupyter-widgets/controls",
            "_model_module_version": "1.5.0",
            "_model_name": "HTMLModel",
            "_view_count": null,
            "_view_module": "@jupyter-widgets/controls",
            "_view_module_version": "1.5.0",
            "_view_name": "HTMLView",
            "description": "",
            "description_tooltip": null,
            "layout": "IPY_MODEL_5bdefabba8f243df96fa47d6cd555643",
            "placeholder": "​",
            "style": "IPY_MODEL_8ffdd387e1a9436c8fe5bc12119f3ac8",
            "value": " 23708/23708 [01:15&lt;00:00, 319.69it/s]"
          }
        },
        "bff4fac4f2bb4c1ab0ec1c7be8f326a5": {
          "model_module": "@jupyter-widgets/base",
          "model_module_version": "1.2.0",
          "model_name": "LayoutModel",
          "state": {
            "_model_module": "@jupyter-widgets/base",
            "_model_module_version": "1.2.0",
            "_model_name": "LayoutModel",
            "_view_count": null,
            "_view_module": "@jupyter-widgets/base",
            "_view_module_version": "1.2.0",
            "_view_name": "LayoutView",
            "align_content": null,
            "align_items": null,
            "align_self": null,
            "border": null,
            "bottom": null,
            "display": null,
            "flex": null,
            "flex_flow": null,
            "grid_area": null,
            "grid_auto_columns": null,
            "grid_auto_flow": null,
            "grid_auto_rows": null,
            "grid_column": null,
            "grid_gap": null,
            "grid_row": null,
            "grid_template_areas": null,
            "grid_template_columns": null,
            "grid_template_rows": null,
            "height": null,
            "justify_content": null,
            "justify_items": null,
            "left": null,
            "margin": null,
            "max_height": null,
            "max_width": null,
            "min_height": null,
            "min_width": null,
            "object_fit": null,
            "object_position": null,
            "order": null,
            "overflow": null,
            "overflow_x": null,
            "overflow_y": null,
            "padding": null,
            "right": null,
            "top": null,
            "visibility": null,
            "width": null
          }
        },
        "cb1d9b5191a44b489ee724d8f10e3b10": {
          "model_module": "@jupyter-widgets/controls",
          "model_module_version": "1.5.0",
          "model_name": "HBoxModel",
          "state": {
            "_dom_classes": [],
            "_model_module": "@jupyter-widgets/controls",
            "_model_module_version": "1.5.0",
            "_model_name": "HBoxModel",
            "_view_count": null,
            "_view_module": "@jupyter-widgets/controls",
            "_view_module_version": "1.5.0",
            "_view_name": "HBoxView",
            "box_style": "",
            "children": [
              "IPY_MODEL_36ccc1e73b6d4c63815f7a3e0f57eec6",
              "IPY_MODEL_aa9d5d100e674e3696184f01cf91340b",
              "IPY_MODEL_5e036381c8cd4fccbd3ce390bdd7fdff"
            ],
            "layout": "IPY_MODEL_ab7f40d090874f749a359b46e356fe96"
          }
        },
        "cb261a33397248aeb01dff30ecbdf055": {
          "model_module": "@jupyter-widgets/controls",
          "model_module_version": "1.5.0",
          "model_name": "HBoxModel",
          "state": {
            "_dom_classes": [],
            "_model_module": "@jupyter-widgets/controls",
            "_model_module_version": "1.5.0",
            "_model_name": "HBoxModel",
            "_view_count": null,
            "_view_module": "@jupyter-widgets/controls",
            "_view_module_version": "1.5.0",
            "_view_name": "HBoxView",
            "box_style": "",
            "children": [
              "IPY_MODEL_3f2310248eb4411c9ce68d43fa6b15fa",
              "IPY_MODEL_e02f3dc487a04367abd9a6b3288847ff",
              "IPY_MODEL_ba615ec3dd8e401c934ecc6ecf501c93"
            ],
            "layout": "IPY_MODEL_e13c1a0c5ceb419b999909f6ca0a04c5"
          }
        },
        "cdc7fbbe0ef540b395ac3edc908ad042": {
          "model_module": "@jupyter-widgets/controls",
          "model_module_version": "1.5.0",
          "model_name": "DescriptionStyleModel",
          "state": {
            "_model_module": "@jupyter-widgets/controls",
            "_model_module_version": "1.5.0",
            "_model_name": "DescriptionStyleModel",
            "_view_count": null,
            "_view_module": "@jupyter-widgets/base",
            "_view_module_version": "1.2.0",
            "_view_name": "StyleView",
            "description_width": ""
          }
        },
        "e02f3dc487a04367abd9a6b3288847ff": {
          "model_module": "@jupyter-widgets/controls",
          "model_module_version": "1.5.0",
          "model_name": "FloatProgressModel",
          "state": {
            "_dom_classes": [],
            "_model_module": "@jupyter-widgets/controls",
            "_model_module_version": "1.5.0",
            "_model_name": "FloatProgressModel",
            "_view_count": null,
            "_view_module": "@jupyter-widgets/controls",
            "_view_module_version": "1.5.0",
            "_view_name": "ProgressView",
            "bar_style": "success",
            "description": "",
            "description_tooltip": null,
            "layout": "IPY_MODEL_132be49b96fd450caea36fa2c38caa9c",
            "max": 23708,
            "min": 0,
            "orientation": "horizontal",
            "style": "IPY_MODEL_a12fdb1fcef340cba44b9a90e7aaa73d",
            "value": 23708
          }
        },
        "e13c1a0c5ceb419b999909f6ca0a04c5": {
          "model_module": "@jupyter-widgets/base",
          "model_module_version": "1.2.0",
          "model_name": "LayoutModel",
          "state": {
            "_model_module": "@jupyter-widgets/base",
            "_model_module_version": "1.2.0",
            "_model_name": "LayoutModel",
            "_view_count": null,
            "_view_module": "@jupyter-widgets/base",
            "_view_module_version": "1.2.0",
            "_view_name": "LayoutView",
            "align_content": null,
            "align_items": null,
            "align_self": null,
            "border": null,
            "bottom": null,
            "display": null,
            "flex": null,
            "flex_flow": null,
            "grid_area": null,
            "grid_auto_columns": null,
            "grid_auto_flow": null,
            "grid_auto_rows": null,
            "grid_column": null,
            "grid_gap": null,
            "grid_row": null,
            "grid_template_areas": null,
            "grid_template_columns": null,
            "grid_template_rows": null,
            "height": null,
            "justify_content": null,
            "justify_items": null,
            "left": null,
            "margin": null,
            "max_height": null,
            "max_width": null,
            "min_height": null,
            "min_width": null,
            "object_fit": null,
            "object_position": null,
            "order": null,
            "overflow": null,
            "overflow_x": null,
            "overflow_y": null,
            "padding": null,
            "right": null,
            "top": null,
            "visibility": null,
            "width": null
          }
        },
        "f7f8ef01edcc4ca4aa088b619bf27f6b": {
          "model_module": "@jupyter-widgets/base",
          "model_module_version": "1.2.0",
          "model_name": "LayoutModel",
          "state": {
            "_model_module": "@jupyter-widgets/base",
            "_model_module_version": "1.2.0",
            "_model_name": "LayoutModel",
            "_view_count": null,
            "_view_module": "@jupyter-widgets/base",
            "_view_module_version": "1.2.0",
            "_view_name": "LayoutView",
            "align_content": null,
            "align_items": null,
            "align_self": null,
            "border": null,
            "bottom": null,
            "display": null,
            "flex": null,
            "flex_flow": null,
            "grid_area": null,
            "grid_auto_columns": null,
            "grid_auto_flow": null,
            "grid_auto_rows": null,
            "grid_column": null,
            "grid_gap": null,
            "grid_row": null,
            "grid_template_areas": null,
            "grid_template_columns": null,
            "grid_template_rows": null,
            "height": null,
            "justify_content": null,
            "justify_items": null,
            "left": null,
            "margin": null,
            "max_height": null,
            "max_width": null,
            "min_height": null,
            "min_width": null,
            "object_fit": null,
            "object_position": null,
            "order": null,
            "overflow": null,
            "overflow_x": null,
            "overflow_y": null,
            "padding": null,
            "right": null,
            "top": null,
            "visibility": null,
            "width": null
          }
        }
      }
    }
  },
  "nbformat": 4,
  "nbformat_minor": 0
}
